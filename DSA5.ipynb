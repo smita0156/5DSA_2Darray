{
 "cells": [
  {
   "cell_type": "code",
   "execution_count": null,
   "id": "8964d274-ec41-4854-87e6-411785cc74a1",
   "metadata": {},
   "outputs": [],
   "source": [
    "# 1. Convert 1D Array Into 2D Array"
   ]
  },
  {
   "cell_type": "code",
   "execution_count": null,
   "id": "a0916be0-4a92-438b-9a4a-9a9d03fd7619",
   "metadata": {},
   "outputs": [],
   "source": [
    "class Solution:\n",
    "    def construct2DArray(self, original: List[int], m: int, n: int) -> List[List[int]]:\n",
    "        if len(original)!=m*n:\n",
    "            return []\n",
    "        matrix=[]\n",
    "        for i in range(0,len(original),n):\n",
    "            matrix.append(original[i:i+n])\n",
    "        return matrix\n"
   ]
  },
  {
   "cell_type": "code",
   "execution_count": null,
   "id": "c3128796-7e72-4db5-bdcc-973e110604a4",
   "metadata": {},
   "outputs": [],
   "source": [
    "# 2. You have n coins and you want to build a staircase with these coins."
   ]
  },
  {
   "cell_type": "code",
   "execution_count": null,
   "id": "f5c0e1d4-3713-43b3-a074-6a2c35eee2a3",
   "metadata": {},
   "outputs": [],
   "source": [
    "class Solution:\n",
    "    def arrangeCoins(self, n: int) -> int:\n",
    "        ans= bisect_left(range(1,n),n,key=lambda x:x*(x+1)//2)+1\n",
    "        if ans*(ans+1)//2==n:\n",
    "            return ans\n",
    "        return ans-1"
   ]
  },
  {
   "cell_type": "code",
   "execution_count": null,
   "id": "96440ce8-094e-4abb-a24b-e809cd457b5a",
   "metadata": {},
   "outputs": [],
   "source": [
    "# 3. Given an integer array"
   ]
  },
  {
   "cell_type": "code",
   "execution_count": null,
   "id": "ed3b4d4f-7875-438e-afc7-a6822fb62c17",
   "metadata": {},
   "outputs": [],
   "source": [
    "class Solution:\n",
    "    def sortedSquares(self, nums: List[int]) -> List[int]:\n",
    "        \n",
    "        # Two Pointer Approach\n",
    "        n = len(nums)\n",
    "        l, r = 0, n - 1\n",
    "        k = n - 1\n",
    "        ans = [0] * n\n",
    "        while k >= 0:\n",
    "            if abs(nums[l]) > nums[r]:\n",
    "                ans[k] = nums[l] * nums[l]\n",
    "                l += 1\n",
    "            else:\n",
    "                ans[k] = nums[r] * nums[r]\n",
    "                r -= 1\n",
    "            k -= 1\n",
    "        return ans"
   ]
  },
  {
   "cell_type": "code",
   "execution_count": null,
   "id": "cb591aef-9481-454c-9c65-c65d84cf5a1b",
   "metadata": {},
   "outputs": [],
   "source": [
    "# 4. Given two 0-indexed integer arrays nums1 and nums2,"
   ]
  },
  {
   "cell_type": "code",
   "execution_count": null,
   "id": "ff1d3674-5614-43fe-8859-eb9573d18fa9",
   "metadata": {},
   "outputs": [],
   "source": [
    "class Solution:\n",
    "    def findDifference(self, nums1: List[int], nums2: List[int]) -> List[List[int]]:\n",
    "        res=[]\n",
    "        a=[]\n",
    "        a=set(nums1) - set(nums2)\n",
    "        b=[]\n",
    "        b=set(nums2) - set(nums1)\n",
    "        res.append(a)\n",
    "        res.append(b)\n",
    "        return res"
   ]
  },
  {
   "cell_type": "code",
   "execution_count": null,
   "id": "051eead8-9eb6-4ae1-9d13-cceda83a4206",
   "metadata": {},
   "outputs": [],
   "source": [
    "# 5. Given two integer arrays arr1 and arr2, "
   ]
  },
  {
   "cell_type": "code",
   "execution_count": null,
   "id": "097f8834-973b-4012-940a-1aa3dea11a47",
   "metadata": {},
   "outputs": [],
   "source": [
    "class Solution:\n",
    "    def findTheDistanceValue(self, arr1: List[int], arr2: List[int], d: int) -> int:\n",
    "        arr2.sort()\n",
    "        distance = len(arr1)\n",
    "        for num in arr1:\n",
    "            start = 0\n",
    "            end = len(arr2) - 1\n",
    "            while start <= end:\n",
    "                mid = (start+end)//2\n",
    "                if abs(num- arr2[mid]) <= d:\n",
    "                    distance -= 1\n",
    "                    break\n",
    "                elif arr2[mid] > num :\n",
    "                    end = mid-1\n",
    "                elif arr2[mid] < num :\n",
    "                    start = mid+1\n",
    "        return distance"
   ]
  },
  {
   "cell_type": "code",
   "execution_count": null,
   "id": "6c620fb9-0322-4172-8a8d-0e8f0a325894",
   "metadata": {},
   "outputs": [],
   "source": [
    "# 6. Given an integer array nums of length n where all "
   ]
  },
  {
   "cell_type": "code",
   "execution_count": null,
   "id": "6d243a80-9168-4597-a97a-59bdd6b58b7d",
   "metadata": {},
   "outputs": [],
   "source": [
    "class Solution:\n",
    "    def findDuplicates(self, nums: List[int]) -> List[int]:\n",
    "        c = Counter(nums)\n",
    "        lst=[]\n",
    "        for i,j in c.items():\n",
    "            if j>=2:\n",
    "                lst.append(i)\n",
    "        return lst"
   ]
  },
  {
   "cell_type": "code",
   "execution_count": null,
   "id": "1efd90ed-7365-430e-8e48-2cc279ccdbe3",
   "metadata": {},
   "outputs": [],
   "source": [
    "# 7. Suppose an array of length n sorted in ascending o"
   ]
  },
  {
   "cell_type": "code",
   "execution_count": null,
   "id": "eff723bf-889d-4139-923d-d5575a133374",
   "metadata": {},
   "outputs": [],
   "source": [
    "class Solution:\n",
    "    def findMin(self, nums: List[int]) -> int:\n",
    "        low=0\n",
    "        high=len(nums)-1\n",
    "        res=nums[0]\n",
    "        while low<=high:\n",
    "            if nums[low]<nums[high]:\n",
    "                res=min(res,nums[low])\n",
    "                break\n",
    "            mid=(low+high)//2\n",
    "            res=min(res,nums[mid])\n",
    "            if nums[mid]>=nums[low]:\n",
    "                low=mid+1\n",
    "            else:\n",
    "                high=mid-1\n",
    "        return res\n",
    "            \n",
    "                \n",
    "                "
   ]
  },
  {
   "cell_type": "code",
   "execution_count": null,
   "id": "4702e549-708a-4dd7-8234-03d9bd29f39a",
   "metadata": {},
   "outputs": [],
   "source": [
    "# 8. An integer array original is transformed into a doubled array changed"
   ]
  },
  {
   "cell_type": "code",
   "execution_count": null,
   "id": "4e05119e-cced-4e5c-9252-3fe0acb84857",
   "metadata": {},
   "outputs": [],
   "source": [
    "class Solution:\n",
    "    def findOriginalArray(self, changed: List[int]) -> List[int]:\n",
    "        c = Counter(changed)\n",
    "\n",
    "        zeros, m = divmod(c[0], 2)\n",
    "        if m: return []\n",
    "        ans = [0]*zeros   \n",
    "\n",
    "        for n in sorted(c.keys()):\n",
    "            if c[n] > c[2*n]: return []\n",
    "            c[2*n]-= c[n]\n",
    "            ans.extend([n]*c[n])\n",
    "\n",
    "        return ans"
   ]
  },
  {
   "cell_type": "code",
   "execution_count": null,
   "id": "eec23000-0dd2-46d5-9172-48e35166c1e0",
   "metadata": {},
   "outputs": [],
   "source": []
  }
 ],
 "metadata": {
  "kernelspec": {
   "display_name": "Python 3 (ipykernel)",
   "language": "python",
   "name": "python3"
  },
  "language_info": {
   "codemirror_mode": {
    "name": "ipython",
    "version": 3
   },
   "file_extension": ".py",
   "mimetype": "text/x-python",
   "name": "python",
   "nbconvert_exporter": "python",
   "pygments_lexer": "ipython3",
   "version": "3.10.6"
  }
 },
 "nbformat": 4,
 "nbformat_minor": 5
}
